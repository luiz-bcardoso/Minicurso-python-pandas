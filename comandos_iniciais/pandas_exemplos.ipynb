{
 "cells": [
  {
   "cell_type": "markdown",
   "metadata": {},
   "source": [
    "Import do pandas como 'pd'"
   ]
  },
  {
   "cell_type": "code",
   "execution_count": 4,
   "metadata": {},
   "outputs": [],
   "source": [
    "import pandas as pd"
   ]
  },
  {
   "cell_type": "markdown",
   "metadata": {},
   "source": [
    "Cria dois data frames simples com id e nome e id idade"
   ]
  },
  {
   "cell_type": "code",
   "execution_count": null,
   "metadata": {},
   "outputs": [
    {
     "name": "stdout",
     "output_type": "stream",
     "text": [
      "{'ID': [1, 2, 3, 4, 5], 'Nome': ['Ana', 'Bernardo', 'Ricardo', 'Xirú', 'Paulinho']}\n",
      "{'ID': [1, 2, 3, 4, 5], 'Idade': [25, 20, 30, 90, 18]}\n"
     ]
    }
   ],
   "source": [
    "data_frame1 = {'ID': [1,2,3,4,5],\n",
    "               'Nome': ['Ana','Bernardo','Ricardo','Xirú','Paulinho']}\n",
    "\n",
    "data_frame2 = {'ID': [1,2,3,4,5],\n",
    "               'Idade': [25,20,30,90,18]}\n",
    "\n",
    "#Exibe os dois data frames\n",
    "print(f\"{data_frame1}\\n{data_frame2}\")"
   ]
  },
  {
   "cell_type": "markdown",
   "metadata": {},
   "source": [
    "Converte os dois DFs para o formato do pandas"
   ]
  },
  {
   "cell_type": "code",
   "execution_count": 6,
   "metadata": {},
   "outputs": [
    {
     "name": "stdout",
     "output_type": "stream",
     "text": [
      "   ID      Nome\n",
      "0   1       Ana\n",
      "1   2  Bernardo\n",
      "2   3   Ricardo\n",
      "3   4      Xirú\n",
      "4   5  Paulinho\n",
      "\n",
      "   ID  Idade\n",
      "0   1     25\n",
      "1   2     20\n",
      "2   3     30\n",
      "3   4     90\n",
      "4   5     18\n"
     ]
    }
   ],
   "source": [
    "df1 = pd.DataFrame(data_frame1)\n",
    "df2 = pd.DataFrame(data_frame2)\n",
    "\n",
    "print(f\"{df1}\\n\\n{df2}\")"
   ]
  }
 ],
 "metadata": {
  "kernelspec": {
   "display_name": "Python 3",
   "language": "python",
   "name": "python3"
  },
  "language_info": {
   "codemirror_mode": {
    "name": "ipython",
    "version": 3
   },
   "file_extension": ".py",
   "mimetype": "text/x-python",
   "name": "python",
   "nbconvert_exporter": "python",
   "pygments_lexer": "ipython3",
   "version": "3.12.1"
  }
 },
 "nbformat": 4,
 "nbformat_minor": 2
}
